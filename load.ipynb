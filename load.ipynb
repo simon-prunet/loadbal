{
 "cells": [
  {
   "cell_type": "code",
   "execution_count": 24,
   "id": "d0c36a1c",
   "metadata": {},
   "outputs": [],
   "source": [
    "import numpy as np\n",
    "\n",
    "def mat(n):\n",
    "    res = np.hstack( ( np.vstack((np.eye(n), np.zeros((1, n)))), np.vstack((np.zeros((1, n)), -np.eye(n))) ))\n",
    "    return res"
   ]
  },
  {
   "cell_type": "code",
   "execution_count": 25,
   "id": "6e20b3f3",
   "metadata": {},
   "outputs": [
    {
     "data": {
      "text/plain": [
       "array([[ 1.,  0.,  0.,  0.,  0.,  0.,  0.,  0.],\n",
       "       [ 0.,  1.,  0.,  0., -1., -0., -0., -0.],\n",
       "       [ 0.,  0.,  1.,  0., -0., -1., -0., -0.],\n",
       "       [ 0.,  0.,  0.,  1., -0., -0., -1., -0.],\n",
       "       [ 0.,  0.,  0.,  0., -0., -0., -0., -1.]])"
      ]
     },
     "execution_count": 25,
     "metadata": {},
     "output_type": "execute_result"
    }
   ],
   "source": [
    "mat(4)"
   ]
  },
  {
   "cell_type": "code",
   "execution_count": 26,
   "id": "09a223cc",
   "metadata": {},
   "outputs": [],
   "source": [
    "def vecf (u, delt=0.1, F=lambda x: x):\n",
    "    resp = np.array([F(u[i]+delt) for i in range(len(u))])\n",
    "    resm = np.array([F(u[i]-delt) for i in range(len(u))])\n",
    "    return np.hstack((resp, resm))\n",
    "\n",
    "def gradf (u, delt=0.1, rho=lambda x: 1):\n",
    "    n = len(u)\n",
    "    matp = np.diag([rho(u[i]+delt) for i in range(n)])\n",
    "    matm = np.diag([rho(u[i]-delt) for i in range(n)])\n",
    "    return np.hstack((matp, matm))"
   ]
  },
  {
   "cell_type": "code",
   "execution_count": 27,
   "id": "d1740534",
   "metadata": {},
   "outputs": [
    {
     "data": {
      "text/plain": [
       "array([[1, 0, 0, 1, 0, 0],\n",
       "       [0, 1, 0, 0, 1, 0],\n",
       "       [0, 0, 1, 0, 0, 1]])"
      ]
     },
     "execution_count": 27,
     "metadata": {},
     "output_type": "execute_result"
    }
   ],
   "source": [
    "u=np.linspace(0,1,5)[1:-1]\n",
    "#vecf(u)\n",
    "gradf(u,rho=lambda x: 1, delt=0.1)"
   ]
  },
  {
   "cell_type": "code",
   "execution_count": 28,
   "id": "8129ae32",
   "metadata": {},
   "outputs": [],
   "source": [
    "def loss(u, alpha, delt=0.1, F=lambda x: x, rho=lambda x: 1):\n",
    "    n = len(u)\n",
    "    ma = mat(n)\n",
    "    a = alpha*np.ones(n+1); a[-1] -=1\n",
    "    residual = np.dot(ma,vecf(u,delt=delt, F=F)) - a\n",
    "    return 0.5 * np.dot(residual,residual)"
   ]
  },
  {
   "cell_type": "code",
   "execution_count": 29,
   "id": "1416769a",
   "metadata": {},
   "outputs": [],
   "source": [
    "def dloss_dalpha(u, alpha, delt=0.1, F=lambda x: x, rho=lambda x: 1):\n",
    "    n = len(u)\n",
    "    ma = mat(n)\n",
    "    a = alpha*np.ones(n+1); a[-1] -=1\n",
    "    residual = np.dot(ma,vecf(u,delt=delt, F=F)) - a\n",
    "    return -np.sum(residual)"
   ]
  },
  {
   "cell_type": "code",
   "execution_count": 30,
   "id": "5b17921c",
   "metadata": {},
   "outputs": [],
   "source": [
    "def gradu(u, alpha, delt=0.1, F=lambda x: x, rho=lambda x: 1):\n",
    "    n = len(u)\n",
    "    ma = mat(n)\n",
    "    a = alpha*np.ones(n+1); a[-1] -=1\n",
    "    residual = np.dot(ma,vecf(u,delt=delt, F=F)) - a\n",
    "    gft = gradf(u,delt=delt, rho=rho)\n",
    "    return np.dot(gft, np.dot(ma.T,residual))\n"
   ]
  },
  {
   "cell_type": "code",
   "execution_count": 41,
   "id": "dcf223c0",
   "metadata": {},
   "outputs": [],
   "source": [
    "def d2loss_dalpha2(u, alpha, delt=0.1, F=lambda x: x, rho=lambda x: 1):\n",
    "    n = len(u)\n",
    "    return float(n+1)\n",
    "def d2loss_dualpha(u, alpha, delt=0.1, F=lambda x: x, rho=lambda x: 1):\n",
    "    n = len(u)\n",
    "    ma = mat(n)\n",
    "    gf = gradf(u,delt=delt, rho=rho).T\n",
    "    return -np.sum(np.dot(ma,gf), axis=0)\n",
    "def d2loss_du2(u, alpha, delt=0.1, F=lambda x: x, rho=lambda x: 1, drho=lambda x: 0):\n",
    "    n = len(u)\n",
    "    ma = mat(n)\n",
    "    gf = gradf(u,delt=delt, rho=rho).T\n",
    "    first = np.dot(gf.T, np.dot(ma.T,ma).dot(gf))\n",
    "    a = alpha*np.ones(n+1); a[-1] -=1\n",
    "    residual = np.dot(ma,vecf(u,delt=delt, F=F)) - a\n",
    "    mtres = np.dot(ma.T,residual)\n",
    "    vsecond = np.zeros(n)\n",
    "    for i in range(n):\n",
    "        vsecond[i] = drho(u[i]+delt)*mtres[i] + drho(u[i]-delt)*mtres[i+n]\n",
    "    second = np.diag(vsecond)\n",
    "    return first + second\n"
   ]
  },
  {
   "cell_type": "code",
   "execution_count": 32,
   "id": "08b814e4",
   "metadata": {},
   "outputs": [
    {
     "data": {
      "text/plain": [
       "array([-1.00000000e-01, -9.42277641e-18,  1.00000000e-01])"
      ]
     },
     "execution_count": 32,
     "metadata": {},
     "output_type": "execute_result"
    }
   ],
   "source": [
    "import numdifftools as nd\n",
    "nd.Gradient(lambda x: loss(x, alpha=0.1, delt=0.1, F=lambda x: x))(u)"
   ]
  },
  {
   "cell_type": "code",
   "execution_count": 33,
   "id": "dd43c80a",
   "metadata": {},
   "outputs": [
    {
     "data": {
      "text/plain": [
       "array([-0.1,  0. ,  0.1])"
      ]
     },
     "execution_count": 33,
     "metadata": {},
     "output_type": "execute_result"
    }
   ],
   "source": [
    "gradu(u, alpha=0.1, delt=0.1, F=lambda x: x, rho=lambda x: 1)"
   ]
  },
  {
   "cell_type": "code",
   "execution_count": 34,
   "id": "bdcdc416",
   "metadata": {},
   "outputs": [
    {
     "data": {
      "text/plain": [
       "array(-1.2)"
      ]
     },
     "execution_count": 34,
     "metadata": {},
     "output_type": "execute_result"
    }
   ],
   "source": [
    "nd.Gradient(lambda alpha: loss(u, alpha=alpha, delt=0.1, F=lambda x: x))(0.1)"
   ]
  },
  {
   "cell_type": "code",
   "execution_count": 35,
   "id": "f0dc1668",
   "metadata": {},
   "outputs": [
    {
     "data": {
      "text/plain": [
       "np.float64(-1.2)"
      ]
     },
     "execution_count": 35,
     "metadata": {},
     "output_type": "execute_result"
    }
   ],
   "source": [
    "dloss_dalpha(u, alpha=0.1, delt=0.1, F=lambda x: x, rho=lambda x: 1)"
   ]
  },
  {
   "cell_type": "code",
   "execution_count": 36,
   "id": "2c16607a",
   "metadata": {},
   "outputs": [
    {
     "data": {
      "text/plain": [
       "array([[ 2., -1.,  0.],\n",
       "       [-1.,  2., -1.],\n",
       "       [ 0., -1.,  2.]])"
      ]
     },
     "execution_count": 36,
     "metadata": {},
     "output_type": "execute_result"
    }
   ],
   "source": [
    "nd.Hessian(lambda x: loss(x, alpha=0.1, delt=0.1, F=lambda x: x))(u)"
   ]
  },
  {
   "cell_type": "code",
   "execution_count": 42,
   "id": "a78f1d04",
   "metadata": {},
   "outputs": [
    {
     "data": {
      "text/plain": [
       "array([[ 2., -1.,  0.],\n",
       "       [-1.,  2., -1.],\n",
       "       [ 0., -1.,  2.]])"
      ]
     },
     "execution_count": 42,
     "metadata": {},
     "output_type": "execute_result"
    }
   ],
   "source": [
    "d2loss_du2(u, alpha=0.1, delt=0.1, F=lambda x: x, rho=lambda x: 1, drho=lambda x: 0)"
   ]
  },
  {
   "cell_type": "code",
   "execution_count": null,
   "id": "3ce58e30",
   "metadata": {},
   "outputs": [],
   "source": [
    "alpha = 0.1\n",
    "u = np.linspace(0,1,5)[1:-1]\n",
    "\n",
    "for i in range(100):\n",
    "    print(i, loss(u, alpha=alpha, delt=0.1, F=lambda x: x), dloss_dalpha(u, alpha=alpha, delt=0.1, F=lambda x: x, rho=lambda x: 1), gradu(u, alpha=alpha, delt=0.1, F=lambda x: x, rho=lambda x: 1))\n",
    "    alpha -= 0.1*dloss_dalpha(u, alpha=alpha, delt=0.1, F=lambda x: x, rho=lambda x: 1)\n",
    "    u -= 0.1*gradu(u, alpha=alpha, delt=0.1, F=lambda x: x, rho=lambda x: 1)\n"
   ]
  },
  {
   "cell_type": "code",
   "execution_count": 6,
   "id": "3ac67321",
   "metadata": {},
   "outputs": [],
   "source": [
    "from scipy.stats import norm "
   ]
  },
  {
   "cell_type": "code",
   "execution_count": null,
   "id": "18bc09c3",
   "metadata": {},
   "outputs": [
    {
     "name": "stdout",
     "output_type": "stream",
     "text": [
      "0 0.019065639956072633 -0.3820255652818547 [ 0.04006832 -0.0043892  -0.00307634 -0.00110928  0.00110928  0.00307634\n",
      "  0.0043892  -0.04006832]\n",
      "100 0.002036613329394152 7.60256283866001e-05 [ 0.0095453   0.00462641  0.00143084  0.00022181 -0.00022181 -0.00143084\n",
      " -0.00462641 -0.0095453 ]\n",
      "200 0.0007456910242248103 4.5121800624825514e-05 [ 0.00454041  0.0032249   0.00184007  0.00058881 -0.00058881 -0.00184007\n",
      " -0.0032249  -0.00454041]\n",
      "300 0.00030169066616484726 2.8382433164608756e-05 [ 0.00265671  0.00207895  0.00130538  0.00044386 -0.00044386 -0.00130538\n",
      " -0.00207895 -0.00265671]\n",
      "400 0.00012669441199039016 1.8247895842204986e-05 [ 0.00167744  0.00133488  0.00085043  0.00029157 -0.00029157 -0.00085043\n",
      " -0.00133488 -0.00167744]\n",
      "500 5.439041599298655e-05 1.188187267209262e-05 [ 0.00109159  0.00086332  0.00054813  0.00018764 -0.00018764 -0.00054813\n",
      " -0.00086332 -0.00109159]\n",
      "600 2.368599137496921e-05 7.803440108589133e-06 [ 0.00071977  0.00056316  0.00035522  0.00012121 -0.00012121 -0.00035522\n",
      " -0.00056316 -0.00071977]\n",
      "700 1.0412383816430144e-05 5.155609163864927e-06 [ 4.77636055e-04  3.70059353e-04  2.32036784e-04  7.89525681e-05\n",
      " -7.89525681e-05 -2.32036784e-04 -3.70059353e-04 -4.77636055e-04]\n",
      "800 4.605929285349641e-06 3.4203299237312024e-06 [ 3.18026411e-04  2.44524672e-04  1.52622091e-04  5.18173190e-05\n",
      " -5.18173190e-05 -1.52622091e-04 -2.44524672e-04 -3.18026411e-04]\n",
      "900 2.0458950937658496e-06 2.2755499141102753e-06 [ 2.12158805e-04  1.62222805e-04  1.00917946e-04  3.42090379e-05\n",
      " -3.42090379e-05 -1.00917946e-04 -1.62222805e-04 -2.12158805e-04]\n",
      "1000 9.112696861844351e-07 1.5168480297922393e-06 [ 1.41696018e-04  1.07923683e-04  6.69833760e-05  2.26809578e-05\n",
      " -2.26809578e-05 -6.69833760e-05 -1.07923683e-04 -1.41696018e-04]\n",
      "1100 4.0663882959669425e-07 1.0124288687962668e-06 [ 9.47031914e-05  7.19378972e-05  4.45775615e-05  1.50828200e-05\n",
      " -1.50828200e-05 -4.45775615e-05 -7.19378972e-05 -9.47031914e-05]\n",
      "1200 1.8167855593932361e-07 6.763462990777569e-07 [ 6.33241958e-05  4.80140169e-05  2.97204884e-05  1.00507659e-05\n",
      " -1.00507659e-05 -2.97204884e-05 -4.80140169e-05 -6.33241958e-05]\n",
      "1300 8.123711540085955e-08 4.520960829035303e-07 [ 4.23548659e-05  3.20747714e-05  1.98396119e-05  6.70695937e-06\n",
      " -6.70695937e-06 -1.98396119e-05 -3.20747714e-05 -4.23548659e-05]\n",
      "1400 3.634488357352985e-08 3.0231865910668176e-07 [ 2.83348736e-05  2.14397017e-05  1.32548221e-05  4.47986491e-06\n",
      " -4.47986491e-06 -1.32548221e-05 -2.14397017e-05 -2.83348736e-05]\n",
      "1500 1.6266390551609352e-08 2.0221572000211907e-07 [ 1.89581069e-05  1.43366757e-05  8.86052598e-06  2.99421052e-06\n",
      " -2.99421052e-06 -8.86052598e-06 -1.43366757e-05 -1.89581069e-05]\n",
      "1600 7.281913970931106e-09 1.3528275921714794e-07 [ 1.26854430e-05  9.58948654e-06  5.92529089e-06  2.00210456e-06\n",
      " -2.00210456e-06 -5.92529089e-06 -9.58948654e-06 -1.26854430e-05]\n",
      "1700 3.2604015956836596e-09 9.051529326065122e-08 [ 8.48869489e-06  6.41535673e-06  3.96342176e-06  1.33911138e-06\n",
      " -1.33911138e-06 -3.96342176e-06 -6.41535673e-06 -8.48869489e-06]\n",
      "1800 1.4599712098403557e-09 6.056702955836712e-08 [ 5.68057927e-06  4.29238742e-06  2.65158128e-06  8.95840744e-07\n",
      " -8.95840744e-07 -2.65158128e-06 -4.29238742e-06 -5.68057927e-06]\n",
      "1900 6.53806697253674e-10 4.052974617030358e-08 [ 3.80150256e-06  2.87218412e-06  1.77414541e-06  5.99378716e-07\n",
      " -5.99378716e-07 -1.77414541e-06 -2.87218412e-06 -3.80150256e-06]\n",
      "2000 2.928031673600432e-10 2.7122336099250077e-08 [ 2.54404784e-06  1.92198172e-06  1.18715302e-06  4.01060228e-07\n",
      " -4.01060228e-07 -1.18715302e-06 -1.92198172e-06 -2.54404784e-06]\n",
      "2100 1.311343449199056e-10 1.815059019749654e-08 [ 1.70255111e-06  1.28618084e-06  7.94413183e-07  2.68375687e-07\n",
      " -2.68375687e-07 -7.94413183e-07 -1.28618084e-06 -1.70255111e-06]\n",
      "2200 5.873090391634122e-11 1.21467861324831e-08 [ 1.13940551e-06  8.60726950e-07  5.31619713e-07  1.79594765e-07\n",
      " -1.79594765e-07 -5.31619713e-07 -8.60726950e-07 -1.13940551e-06]\n",
      "2300 2.630409184385932e-11 8.128992090572495e-09 [ 7.62533042e-07  5.76017726e-07  3.55767015e-07  1.20186452e-07\n",
      " -1.20186452e-07 -3.55767015e-07 -5.76017726e-07 -7.62533042e-07]\n",
      "2400 1.1781055935268431e-11 5.440203676432276e-09 [ 5.10317526e-07  3.85488154e-07  2.38087698e-07  8.04312728e-08\n",
      " -8.04312728e-08 -2.38087698e-07 -3.85488154e-07 -5.10317526e-07]\n",
      "2500 5.2765248404525156e-12 3.6407905579238786e-09 [ 3.41525614e-07  2.57981996e-07  1.59335556e-07  5.38269097e-08\n",
      " -5.38269097e-08 -1.59335556e-07 -2.57981995e-07 -3.41525614e-07]\n",
      "2600 2.3632717980134738e-12 2.436562784868812e-09 [ 2.28563424e-07  1.72651312e-07  1.06632952e-07  3.60227904e-08\n",
      " -3.60227904e-08 -1.06632952e-07 -1.72651312e-07 -2.28563424e-07]\n",
      "2700 1.0584750856812828e-12 1.6306491712470006e-09 [ 1.52964491e-07  1.15545168e-07  7.13628466e-08  2.41077972e-08\n",
      " -2.41077971e-08 -7.13628466e-08 -1.15545168e-07 -1.52964491e-07]\n",
      "2800 4.740765417664054e-13 1.0912996062373281e-09 [ 1.02370497e-07  7.73276202e-08  4.77588913e-08  1.61338952e-08\n",
      " -1.61338952e-08 -4.77588913e-08 -7.73276202e-08 -1.02370497e-07]\n",
      "2900 2.12332692413624e-13 7.303450066942219e-10 [ 6.85108248e-08  5.17509276e-08  3.19622398e-08  1.07974686e-08\n",
      " -1.07974686e-08 -3.19622398e-08 -5.17509275e-08 -6.85108249e-08]\n",
      "3000 9.510112433786132e-14 4.887782401041818e-10 [ 4.58504615e-08  3.46339525e-08  2.13904919e-08  7.22612303e-09\n",
      " -7.22612305e-09 -2.13904919e-08 -3.46339525e-08 -4.58504615e-08]\n",
      "3100 4.259461469176338e-14 3.2711150455000393e-10 [ 3.06851545e-08  2.31785499e-08  1.43154413e-08  4.83603249e-09\n",
      " -4.83603247e-09 -1.43154413e-08 -2.31785499e-08 -3.06851545e-08]\n",
      "3200 1.9077607409318777e-14 2.1891771728732579e-10 [ 2.05358638e-08  1.55121022e-08  9.58051780e-09  3.23648331e-09\n",
      " -3.23648326e-09 -9.58051788e-09 -1.55121021e-08 -2.05358638e-08]\n",
      "3300 8.544629559838175e-15 1.4650958224393662e-10 [ 1.37435106e-08  1.03813821e-08  6.41170299e-09  2.16599646e-09\n",
      " -2.16599641e-09 -6.41170299e-09 -1.03813822e-08 -1.37435106e-08]\n",
      "3400 3.827036879836854e-15 9.805078970970271e-11 [ 9.19776711e-09  6.94767971e-09  4.29099425e-09  1.44958019e-09\n",
      " -1.44958017e-09 -4.29099427e-09 -6.94767973e-09 -9.19776709e-09]\n",
      "3500 1.7140840158460635e-15 6.561967635931865e-11 [ 6.15555408e-09  4.64969493e-09  2.87172306e-09  9.70123083e-10\n",
      " -9.70123105e-10 -2.87172307e-09 -4.64969491e-09 -6.15555406e-09]\n",
      "3600 7.677177765583381e-16 4.3915648895165305e-11 [ 4.11957023e-09  3.11178198e-09  1.92188417e-09  6.49249359e-10\n",
      " -6.49249359e-10 -1.92188421e-09 -3.11178198e-09 -4.11957021e-09]\n",
      "3700 3.4385165139953914e-16 2.9390379019389457e-11 [ 2.75699944e-09  2.08254256e-09  1.28621019e-09  4.34506371e-10\n",
      " -4.34506416e-10 -1.28621017e-09 -2.08254256e-09 -2.75699943e-09]\n",
      "3800 1.5400706618239025e-16 1.9669377238074048e-11 [ 1.84510653e-09  1.39372998e-09  8.60788889e-10  2.90790992e-10\n",
      " -2.90790992e-10 -8.60788889e-10 -1.39372996e-09 -1.84510656e-09]\n",
      "3900 6.897793475972283e-17 1.3163747869526787e-11 [ 1.23482723e-09  9.32746068e-10  5.76078158e-10  1.94610231e-10\n",
      " -1.94610209e-10 -5.76078157e-10 -9.32746085e-10 -1.23482725e-09]\n",
      "4000 3.0894398650558343e-17 8.809619700400617e-12 [ 8.26401320e-10  6.24235100e-10  3.85537069e-10  1.30241809e-10\n",
      " -1.30241809e-10 -3.85537090e-10 -6.24235083e-10 -8.26401314e-10]\n",
      "4100 1.3837234297964937e-17 5.895728349969431e-12 [ 5.53064476e-10  4.17765827e-10  2.58018614e-10  8.71635903e-11\n",
      " -8.71635903e-11 -2.58018593e-10 -4.17765844e-10 -5.53064494e-10]\n",
      "4200 6.19753285072183e-18 3.945677118366575e-12 [ 3.70135335e-10  2.79587464e-10  1.72677470e-10  5.83338248e-11\n",
      " -5.83338248e-11 -1.72677470e-10 -2.79587482e-10 -3.70135324e-10]\n",
      "4300 2.7758011986310234e-18 2.641109553280785e-12 [ 2.47711008e-10  1.87112362e-10  1.15563420e-10  3.90395436e-11\n",
      " -3.90395436e-11 -1.15563441e-10 -1.87112327e-10 -2.47711031e-10]\n",
      "4400 1.2432484770024427e-18 1.7669754548421679e-12 [ 1.65779237e-10  1.25223878e-10  7.73401909e-11  2.61270104e-11\n",
      " -2.61269883e-11 -7.73402110e-11 -1.25223860e-10 -1.65779260e-10]\n",
      "4500 5.568363046830087e-19 1.1827760992844105e-12 [ 1.10946823e-10  8.38054451e-11  5.17594539e-11  1.74853745e-11\n",
      " -1.74853524e-11 -5.17594949e-11 -8.38054104e-11 -1.10946828e-10]\n",
      "4600 2.494004396515862e-19 7.916445277089679e-13 [ 7.42505629e-11  5.60863369e-11  3.46397142e-11  1.17019597e-11\n",
      " -1.17019376e-11 -3.46397343e-11 -5.60863369e-11 -7.42505629e-11]\n",
      "4700 1.1170348008038987e-19 5.299094496535872e-13 [ 4.96917853e-11  3.75354109e-11  2.31824827e-11  7.83148708e-12\n",
      " -7.83146500e-12 -2.31825028e-11 -3.75353750e-11 -4.96918197e-11]\n",
      "4800 5.0030650195639147e-20 3.548827898214313e-13 [ 3.32559328e-11  2.51204135e-11  1.55146955e-11  5.24120415e-12\n",
      " -5.24118207e-12 -1.55146947e-11 -2.51204302e-11 -3.32559205e-11]\n",
      "4900 2.2408155232874688e-20 2.370881269087022e-13 [ 2.22563383e-11  1.68117099e-11  1.03831299e-11  3.50764517e-12\n",
      " -3.50760101e-12 -1.03831701e-11 -1.68117458e-11 -2.22563348e-11]\n",
      "5000 1.0036332265623379e-20 1.5892842597509116e-13 [ 1.48949308e-11  1.12511233e-11  6.94887552e-12  2.34743759e-12\n",
      " -2.34743759e-12 -6.94881281e-12 -1.12512094e-11 -1.48948964e-11]\n",
      "5100 4.4951457526013186e-21 1.0647038806155251e-13 [ 9.96831246e-12  7.52977269e-12  4.65048617e-12  1.57102930e-12\n",
      " -1.57098514e-12 -4.65054728e-12 -7.52973800e-12 -9.96832965e-12]\n",
      "5200 2.0133241873288938e-21 7.110978472724128e-14 [ 6.67122181e-12  5.03928897e-12  3.11228745e-12  1.05139869e-12\n",
      " -1.05135453e-12 -3.11236946e-12 -5.03925549e-12 -6.67124649e-12]\n",
      "5300 9.017447324137032e-22 4.7406523151494184e-14 [ 4.46469411e-12  3.37247475e-12  2.08292123e-12  7.03640687e-13\n",
      " -7.03640687e-13 -2.08290033e-12 -3.37254534e-12 -4.46467339e-12]\n",
      "5400 4.038779991342311e-22 3.2029934260435766e-14 [ 2.98796284e-12  2.25697705e-12  1.39400383e-12  4.70918012e-13\n",
      " -4.70918012e-13 -1.39398293e-12 -2.25702969e-12 -2.98795314e-12]\n",
      "5500 1.8088843427666282e-22 2.1538326677728037e-14 [ 1.99962824e-12  1.51050323e-12  9.32941345e-13  3.15134284e-13\n",
      " -3.15134284e-13 -9.32983148e-13 -1.51046975e-12 -1.99961590e-12]\n",
      "5600 8.10148896977167e-23 1.4155343563970746e-14 [ 1.33824583e-12  1.01084264e-12  6.24318339e-13  2.10946035e-13\n",
      " -2.10923954e-13 -6.24338441e-13 -1.01082469e-12 -1.33825685e-12]\n",
      "5700 3.628587830110412e-23 9.492406860545088e-15 [ 8.95578637e-13  6.76547142e-13  4.17842828e-13  1.41147106e-13\n",
      " -1.41147106e-13 -4.17821926e-13 -6.76563882e-13 -8.95578637e-13]\n",
      "5800 1.625278802256563e-23 6.106226635438361e-15 [ 5.99402040e-13  4.52758899e-13  2.79608305e-13  9.44936267e-14\n",
      " -9.44715449e-14 -2.79649309e-13 -4.52760109e-13 -5.99403360e-13]\n",
      "5900 7.279448442527157e-24 4.052314039881821e-15 [ 4.01158832e-13  3.03006398e-13  1.87127408e-13  6.31839025e-14\n",
      " -6.31839025e-14 -1.87148310e-13 -3.03007608e-13 -4.01153983e-13]\n",
      "6000 3.2606952809661735e-24 2.0539125955565396e-15 [ 2.68499079e-13  2.02767766e-13  1.25273045e-13  4.22822010e-14\n",
      " -4.22822010e-14 -1.25252143e-13 -2.02748605e-13 -2.68521118e-13]\n",
      "6100 1.4602489431121464e-24 1.9984014443252818e-15 [ 1.79666371e-13  1.35703756e-13  8.38337436e-14  2.82867888e-14\n",
      " -2.82867888e-14 -8.38337436e-14 -1.35703756e-13 -1.79672541e-13]\n",
      "6200 6.54097833874307e-25 1.1657341758564144e-15 [ 1.20236704e-13  9.08305848e-14  5.61067271e-14  1.89238596e-14\n",
      " -1.88796959e-14 -5.61469316e-14 -9.08485347e-14 -1.20231855e-13]\n",
      "6300 2.929121507180479e-25 8.326672684688674e-16 [ 8.04642295e-14  6.07937243e-14  3.75243366e-14  1.26769892e-14\n",
      " -1.26769892e-14 -3.75034348e-14 -6.08284136e-14 -8.04532100e-14]\n",
      "6400 1.31212719642584e-25 7.216449660063518e-16 [ 5.38613283e-14  4.06840412e-14  2.51190389e-14  8.50647724e-15\n",
      " -8.48439543e-15 -2.51182393e-14 -4.06648808e-14 -5.38648578e-14]\n",
      "6500 5.881373587067444e-26 4.996003610813204e-16 [ 3.60660552e-14  2.72195684e-14  1.68366382e-14  5.64678264e-15\n",
      " -5.64678264e-15 -1.67948347e-14 -2.72350974e-14 -3.60770748e-14]\n",
      "6600 2.6343147113240604e-26 4.440892098500626e-16 [ 2.41548741e-14  1.81684965e-14  1.12969344e-14  3.83577696e-15\n",
      " -3.87994059e-15 -1.12358281e-14 -1.81672860e-14 -2.41720635e-14]\n",
      "6700 1.1822639897619838e-26 1.1102230246251565e-16 [ 1.61574487e-14  1.22283657e-14  7.51548949e-15  2.60014979e-15\n",
      " -2.60014979e-15 -7.47368591e-15 -1.22259447e-14 -1.61794878e-14]\n",
      "6800 5.324284175809045e-27 2.7755575615628914e-16 [ 1.08839427e-14  8.15520094e-15  5.04183121e-15  1.73954923e-15\n",
      " -1.71746742e-15 -5.10373704e-15 -8.13967194e-15 -1.08667533e-14]\n",
      "6900 2.3995469325911673e-27 5.551115123125783e-17 [ 7.30752080e-15  5.49461622e-15  3.37328974e-15  1.15905416e-15\n",
      " -1.13697234e-15 -3.41429377e-15 -5.49582668e-15 -7.27182186e-15]\n",
      "7000 1.1090197954561683e-27 1.6653345369377348e-16 [ 5.02122985e-15  3.65507675e-15  2.32123549e-15  7.34885654e-16\n",
      " -7.34885654e-16 -2.30033370e-15 -3.67181620e-15 -5.00889015e-15]\n",
      "7100 4.95883819848959e-28 5.551115123125783e-17 [ 3.21217159e-15  2.64929232e-15  1.51212099e-15  5.62423536e-16\n",
      " -5.18259907e-16 -1.57322727e-15 -2.57870315e-15 -3.23289056e-15]\n",
      "7200 2.514771469303967e-28 -1.1102230246251565e-16 [ 2.51790324e-15  1.64148526e-15  9.91347736e-16  4.24859930e-16\n",
      " -4.69023560e-16 -9.51143244e-16 -1.64148526e-15 -2.49939370e-15]\n",
      "7300 1.1601339761802056e-28 5.551115123125783e-17 [ 1.30175548e-15  1.55738973e-15  8.05916338e-16  1.49550591e-16\n",
      " -1.49550591e-16 -8.05916338e-16 -1.59328954e-15 -1.29205607e-15]\n",
      "7400 5.746358656469308e-29 1.6653345369377348e-16 [ 1.10899588e-15  7.07500464e-16  7.65198372e-16  1.78961529e-16\n",
      " -1.12716084e-16 -8.25505111e-16 -6.53650741e-16 -1.14822438e-15]\n",
      "7500 3.7298329674980964e-29 -1.1102230246251565e-16 [ 1.10153341e-15  5.05209653e-16  2.59444049e-16  1.19353781e-16\n",
      " -9.72719664e-17 -2.58644507e-16 -5.39899011e-16 -1.09668370e-15]\n",
      "7600 3.7298329674980964e-29 -1.1102230246251565e-16 [ 1.10153341e-15  5.05209653e-16  2.59444049e-16  1.19353781e-16\n",
      " -9.72719664e-17 -2.58644507e-16 -5.39899011e-16 -1.09668370e-15]\n",
      "7700 3.7298329674980964e-29 -1.1102230246251565e-16 [ 1.10153341e-15  5.05209653e-16  2.59444049e-16  1.19353781e-16\n",
      " -9.72719664e-17 -2.58644507e-16 -5.39899011e-16 -1.09668370e-15]\n",
      "7800 3.7298329674980964e-29 -1.1102230246251565e-16 [ 1.10153341e-15  5.05209653e-16  2.59444049e-16  1.19353781e-16\n",
      " -9.72719664e-17 -2.58644507e-16 -5.39899011e-16 -1.09668370e-15]\n",
      "7900 3.7298329674980964e-29 -1.1102230246251565e-16 [ 1.10153341e-15  5.05209653e-16  2.59444049e-16  1.19353781e-16\n",
      " -9.72719664e-17 -2.58644507e-16 -5.39899011e-16 -1.09668370e-15]\n",
      "8000 3.7298329674980964e-29 -1.1102230246251565e-16 [ 1.10153341e-15  5.05209653e-16  2.59444049e-16  1.19353781e-16\n",
      " -9.72719664e-17 -2.58644507e-16 -5.39899011e-16 -1.09668370e-15]\n",
      "8100 3.7298329674980964e-29 -1.1102230246251565e-16 [ 1.10153341e-15  5.05209653e-16  2.59444049e-16  1.19353781e-16\n",
      " -9.72719664e-17 -2.58644507e-16 -5.39899011e-16 -1.09668370e-15]\n",
      "8200 3.7298329674980964e-29 -1.1102230246251565e-16 [ 1.10153341e-15  5.05209653e-16  2.59444049e-16  1.19353781e-16\n",
      " -9.72719664e-17 -2.58644507e-16 -5.39899011e-16 -1.09668370e-15]\n",
      "8300 3.7298329674980964e-29 -1.1102230246251565e-16 [ 1.10153341e-15  5.05209653e-16  2.59444049e-16  1.19353781e-16\n",
      " -9.72719664e-17 -2.58644507e-16 -5.39899011e-16 -1.09668370e-15]\n",
      "8400 3.7298329674980964e-29 -1.1102230246251565e-16 [ 1.10153341e-15  5.05209653e-16  2.59444049e-16  1.19353781e-16\n",
      " -9.72719664e-17 -2.58644507e-16 -5.39899011e-16 -1.09668370e-15]\n",
      "8500 3.7298329674980964e-29 -1.1102230246251565e-16 [ 1.10153341e-15  5.05209653e-16  2.59444049e-16  1.19353781e-16\n",
      " -9.72719664e-17 -2.58644507e-16 -5.39899011e-16 -1.09668370e-15]\n",
      "8600 3.7298329674980964e-29 -1.1102230246251565e-16 [ 1.10153341e-15  5.05209653e-16  2.59444049e-16  1.19353781e-16\n",
      " -9.72719664e-17 -2.58644507e-16 -5.39899011e-16 -1.09668370e-15]\n",
      "8700 3.7298329674980964e-29 -1.1102230246251565e-16 [ 1.10153341e-15  5.05209653e-16  2.59444049e-16  1.19353781e-16\n",
      " -9.72719664e-17 -2.58644507e-16 -5.39899011e-16 -1.09668370e-15]\n",
      "8800 3.7298329674980964e-29 -1.1102230246251565e-16 [ 1.10153341e-15  5.05209653e-16  2.59444049e-16  1.19353781e-16\n",
      " -9.72719664e-17 -2.58644507e-16 -5.39899011e-16 -1.09668370e-15]\n",
      "8900 3.7298329674980964e-29 -1.1102230246251565e-16 [ 1.10153341e-15  5.05209653e-16  2.59444049e-16  1.19353781e-16\n",
      " -9.72719664e-17 -2.58644507e-16 -5.39899011e-16 -1.09668370e-15]\n",
      "9000 3.7298329674980964e-29 -1.1102230246251565e-16 [ 1.10153341e-15  5.05209653e-16  2.59444049e-16  1.19353781e-16\n",
      " -9.72719664e-17 -2.58644507e-16 -5.39899011e-16 -1.09668370e-15]\n",
      "9100 3.7298329674980964e-29 -1.1102230246251565e-16 [ 1.10153341e-15  5.05209653e-16  2.59444049e-16  1.19353781e-16\n",
      " -9.72719664e-17 -2.58644507e-16 -5.39899011e-16 -1.09668370e-15]\n",
      "9200 3.7298329674980964e-29 -1.1102230246251565e-16 [ 1.10153341e-15  5.05209653e-16  2.59444049e-16  1.19353781e-16\n",
      " -9.72719664e-17 -2.58644507e-16 -5.39899011e-16 -1.09668370e-15]\n",
      "9300 3.7298329674980964e-29 -1.1102230246251565e-16 [ 1.10153341e-15  5.05209653e-16  2.59444049e-16  1.19353781e-16\n",
      " -9.72719664e-17 -2.58644507e-16 -5.39899011e-16 -1.09668370e-15]\n",
      "9400 3.7298329674980964e-29 -1.1102230246251565e-16 [ 1.10153341e-15  5.05209653e-16  2.59444049e-16  1.19353781e-16\n",
      " -9.72719664e-17 -2.58644507e-16 -5.39899011e-16 -1.09668370e-15]\n",
      "9500 3.7298329674980964e-29 -1.1102230246251565e-16 [ 1.10153341e-15  5.05209653e-16  2.59444049e-16  1.19353781e-16\n",
      " -9.72719664e-17 -2.58644507e-16 -5.39899011e-16 -1.09668370e-15]\n",
      "9600 3.7298329674980964e-29 -1.1102230246251565e-16 [ 1.10153341e-15  5.05209653e-16  2.59444049e-16  1.19353781e-16\n",
      " -9.72719664e-17 -2.58644507e-16 -5.39899011e-16 -1.09668370e-15]\n",
      "9700 3.7298329674980964e-29 -1.1102230246251565e-16 [ 1.10153341e-15  5.05209653e-16  2.59444049e-16  1.19353781e-16\n",
      " -9.72719664e-17 -2.58644507e-16 -5.39899011e-16 -1.09668370e-15]\n",
      "9800 3.7298329674980964e-29 -1.1102230246251565e-16 [ 1.10153341e-15  5.05209653e-16  2.59444049e-16  1.19353781e-16\n",
      " -9.72719664e-17 -2.58644507e-16 -5.39899011e-16 -1.09668370e-15]\n",
      "9900 3.7298329674980964e-29 -1.1102230246251565e-16 [ 1.10153341e-15  5.05209653e-16  2.59444049e-16  1.19353781e-16\n",
      " -9.72719664e-17 -2.58644507e-16 -5.39899011e-16 -1.09668370e-15]\n"
     ]
    }
   ],
   "source": [
    "alpha = 0.1\n",
    "u = np.linspace(-1,1,10)[1:-1]\n",
    "step = 0.1\n",
    "delt = 0.05\n",
    "# dloss_dalpha(u, alpha=alpha, delt=delt, F=norm.cdf, rho=norm.pdf),gradu(u, alpha=alpha, delt=delt, F=norm.cdf, rho=norm.pdf)\n",
    "for i in range(10000):\n",
    "    if (not i%100):\n",
    "        print(i, loss(u, alpha=alpha, delt=delt, F=norm.cdf), dloss_dalpha(u, alpha=alpha, delt=delt, F=norm.cdf, rho=norm.pdf), gradu(u, alpha=alpha, delt=delt, F=norm.cdf, rho=norm.pdf))\n",
    "    alpha -= step*dloss_dalpha(u, alpha=alpha, delt=delt, F=norm.cdf, rho=norm.pdf)\n",
    "    u -= step*gradu(u, alpha=alpha, delt=delt, F=norm.cdf, rho=norm.pdf)\n",
    "\n"
   ]
  },
  {
   "cell_type": "code",
   "execution_count": 16,
   "id": "455ed609",
   "metadata": {},
   "outputs": [
    {
     "data": {
      "text/plain": [
       "np.float64(0.13973680691667825)"
      ]
     },
     "execution_count": 16,
     "metadata": {},
     "output_type": "execute_result"
    }
   ],
   "source": [
    "alpha"
   ]
  },
  {
   "cell_type": "code",
   "execution_count": 17,
   "id": "c75ded82",
   "metadata": {},
   "outputs": [
    {
     "data": {
      "text/plain": [
       "[np.float64(0.13973680691668333),\n",
       " np.float64(0.1397368069166784),\n",
       " np.float64(0.13973680691667673),\n",
       " np.float64(0.13973680691667595),\n",
       " np.float64(0.13973680691667562),\n",
       " np.float64(0.1397368069166759),\n",
       " np.float64(0.13973680691667667),\n",
       " np.float64(0.13973680691667845),\n",
       " np.float64(0.13973680691668333)]"
      ]
     },
     "execution_count": 17,
     "metadata": {},
     "output_type": "execute_result"
    }
   ],
   "source": [
    "[norm.cdf(u[0]+delt),*[norm.cdf(u[i]+delt)-norm.cdf(u[i-1]-delt) for i in range(1,len(u))],1-norm.cdf(u[-1]-delt)]"
   ]
  },
  {
   "cell_type": "code",
   "execution_count": 18,
   "id": "6a7f1852",
   "metadata": {},
   "outputs": [],
   "source": [
    "r = np.random.standard_normal(100000000)"
   ]
  },
  {
   "cell_type": "code",
   "execution_count": 19,
   "id": "22a9da95",
   "metadata": {},
   "outputs": [],
   "source": [
    "r.sort()"
   ]
  },
  {
   "cell_type": "code",
   "execution_count": 21,
   "id": "83e27704",
   "metadata": {},
   "outputs": [
    {
     "data": {
      "text/plain": [
       "[np.float64(0.13969163),\n",
       " np.float64(0.1396893),\n",
       " np.float64(0.13971746),\n",
       " np.float64(0.13971993),\n",
       " np.float64(0.13976683),\n",
       " np.float64(0.13981777),\n",
       " np.float64(0.1397097),\n",
       " np.float64(0.13975019),\n",
       " np.float64(0.13974904)]"
      ]
     },
     "execution_count": 21,
     "metadata": {},
     "output_type": "execute_result"
    }
   ],
   "source": [
    "[np.sum((r<=u[0]+delt))/len(r), *[np.sum((r>=u[i-1]-delt) & (r<=u[i]+delt))/len(r) for i in range(1,len(u))],np.sum((r>=u[-1]-delt))/len(r)]\n"
   ]
  },
  {
   "cell_type": "code",
   "execution_count": 22,
   "id": "21d8b922",
   "metadata": {},
   "outputs": [
    {
     "data": {
      "image/png": "[encoded data removed]",
      "text/plain": [
       "<Figure size 640x480 with 1 Axes>"
      ]
     },
     "metadata": {},
     "output_type": "display_data"
    }
   ],
   "source": [
    "from matplotlib import pyplot as plt\n",
    "x = np.linspace(-3,3,1000)\n",
    "plt.plot(x, norm.pdf(x))\n",
    "plt.vlines(u, 0, norm.pdf(u), colors='r')\n",
    "plt.vlines(u-delt, 0, norm.pdf(u-delt), colors='g', linestyles='dashed')\n",
    "plt.vlines(u+delt, 0, norm.pdf(u+delt), colors='g', linestyles='dashed')\n",
    "plt.show()"
   ]
  },
  {
   "cell_type": "markdown",
   "id": "685796af",
   "metadata": {},
   "source": [
    "### Now try with Hessian"
   ]
  },
  {
   "cell_type": "code",
   "execution_count": 57,
   "id": "cd2bd3dc",
   "metadata": {},
   "outputs": [],
   "source": [
    "def hess(u, alpha, delt=0.1, F=lambda x: x, rho=lambda x: 1, drho=lambda x: 0):\n",
    "    n = len(u)\n",
    "    res = np.zeros((n+1,n+1))\n",
    "    res[0,0] = d2loss_dalpha2(u, alpha, delt=delt, F=F, rho=rho)\n",
    "    res[0,1:] = d2loss_dualpha(u, alpha, delt=delt, F=F, rho=rho)\n",
    "    res[1:,0] = res[0,1:]\n",
    "    res[1:,1:] = d2loss_du2(u, alpha, delt=delt, F=F, rho=rho, drho=drho)\n",
    "    return res\n",
    "def grad(u, alpha, delt=0.1, F=lambda x: x, rho=lambda x: 1):\n",
    "    n = len(u)\n",
    "    res = np.zeros(n+1)\n",
    "    res[0] = dloss_dalpha(u, alpha, delt=delt, F=F, rho=rho)\n",
    "    res[1:] = gradu(u, alpha, delt=delt, F=F, rho=rho)\n",
    "    return res\n",
    "\n"
   ]
  },
  {
   "cell_type": "code",
   "execution_count": 63,
   "id": "1bd4482b",
   "metadata": {},
   "outputs": [
    {
     "name": "stdout",
     "output_type": "stream",
     "text": [
      "0 0.019065639956072633 [-0.38202557  0.04006832 -0.0043892  -0.00307634 -0.00110928  0.00110928\n",
      "  0.00307634  0.0043892  -0.04006832]\n",
      "1 0.00083297365023444 [ 7.26531234e-04  8.82277784e-03 -1.98266591e-03 -4.32761994e-04\n",
      " -5.56812677e-05  5.56812677e-05  4.32761994e-04  1.98266591e-03\n",
      " -8.82277784e-03]\n",
      "2 1.7722419522761498e-05 [ 4.97230627e-06  1.16910520e-03 -3.02081979e-04 -3.30431870e-05\n",
      " -5.25212139e-06  5.25212139e-06  3.30431870e-05  3.02081979e-04\n",
      " -1.16910520e-03]\n",
      "3 1.477394820142129e-08 [-7.36802123e-07  3.33123797e-05 -9.21954371e-06 -8.61431907e-07\n",
      " -1.64147705e-07  1.64147705e-07  8.61431907e-07  9.21954371e-06\n",
      " -3.33123797e-05]\n",
      "4 1.1566365099777875e-14 [-8.11519463e-10  2.95060613e-08 -8.32228652e-09 -7.20823278e-10\n",
      " -1.39147074e-10  1.39147118e-10  7.20823280e-10  8.32228646e-09\n",
      " -2.95060613e-08]\n",
      "5 7.115876654715383e-27 [-1.66533454e-16  2.31450007e-14 -6.55383258e-15 -5.68408271e-16\n",
      " -1.39121824e-16  1.39121824e-16  5.89310059e-16  6.55504304e-15\n",
      " -2.31621901e-14]\n",
      "6 5.854827030937197e-32 [-4.44089210e-16  2.46793943e-17  0.00000000e+00  2.01022462e-17\n",
      " -2.76570699e-19 -2.18052442e-17 -8.36071519e-17 -4.84182854e-18\n",
      "  4.40782110e-17]\n",
      "7 3.697785493223493e-32 [ 3.33066907e-16 -1.23396971e-17  0.00000000e+00  0.00000000e+00\n",
      "  0.00000000e+00  2.20818149e-17  4.26031177e-17  3.63137140e-18\n",
      " -5.77380525e-17]\n",
      "8 1.232595164407831e-32 [ 1.11022302e-16 -1.16796249e-17  1.73446789e-17 -2.05020171e-17\n",
      "  2.19435296e-17 -4.40253445e-17  4.06042633e-17  6.05228567e-19\n",
      "  1.91696179e-17]\n",
      "9 2.1570415377137042e-32 [ 1.11022302e-16  1.03594806e-17 -1.85551360e-17 -3.99770873e-19\n",
      " -2.19435296e-17  6.61071594e-17 -8.16082975e-17 -1.81568570e-18\n",
      "  1.65293291e-17]\n"
     ]
    },
    {
     "data": {
      "text/plain": [
       "(np.float64(0.13973680691667803),\n",
       " np.float64(0.139736806916678),\n",
       " np.float64(0.13973680691667806),\n",
       " np.float64(0.13973680691667806),\n",
       " np.float64(0.139736806916678),\n",
       " np.float64(0.139736806916678),\n",
       " np.float64(0.139736806916678),\n",
       " np.float64(0.139736806916678),\n",
       " np.float64(0.139736806916678),\n",
       " np.float64(0.139736806916678))"
      ]
     },
     "execution_count": 63,
     "metadata": {},
     "output_type": "execute_result"
    }
   ],
   "source": [
    "from scipy.stats import norm\n",
    "\n",
    "alpha = 0.1\n",
    "u = np.linspace(-1,1,10)[1:-1]\n",
    "step = 0.1\n",
    "delt = 0.05\n",
    "vec = np.hstack((alpha, u))\n",
    "grad(vec[1:], alpha=vec[0], delt=delt, F=norm.cdf, rho=norm.pdf)\n",
    "for i in range(10):\n",
    "    if (not i%1):\n",
    "        print(i, loss(vec[1:], alpha=vec[0], delt=delt, F=norm.cdf), grad(vec[1:], alpha=vec[0], delt=delt, F=norm.cdf, rho=norm.pdf))\n",
    "    hessian = hess(vec[1:], alpha=vec[0], delt=delt, F=norm.cdf, rho=norm.pdf, drho=lambda x: -x*norm.pdf(x))\n",
    "    ihessian = np.linalg.inv(hessian)\n",
    "    vec -= np.dot(ihessian, grad(vec[1:], alpha=vec[0], delt=delt, F=norm.cdf, rho=norm.pdf))\n",
    "    # vec -= step*grad(vec[1:], alpha=vec[0], delt=delt, F=norm.cdf, rho=norm.pdf)\n",
    "\n",
    "####u, grad(vec[1:], alpha=vec[0], delt=delt, F=norm.cdf, rho=norm.pdf)\n",
    "alpha, u = vec[0], vec[1:]\n",
    "alpha, *[norm.cdf(u[0]+delt),*[norm.cdf(u[i]+delt)-norm.cdf(u[i-1]-delt) for i in range(1,len(u))],1-norm.cdf(u[-1]-delt)]"
   ]
  },
  {
   "cell_type": "code",
   "execution_count": null,
   "id": "e5255d3e",
   "metadata": {},
   "outputs": [],
   "source": []
  }
 ],
 "metadata": {
  "kernelspec": {
   "display_name": "recent",
   "language": "python",
   "name": "python3"
  },
  "language_info": {
   "codemirror_mode": {
    "name": "ipython",
    "version": 3
   },
   "file_extension": ".py",
   "mimetype": "text/x-python",
   "name": "python",
   "nbconvert_exporter": "python",
   "pygments_lexer": "ipython3",
   "version": "3.13.3"
  }
 },
 "nbformat": 4,
 "nbformat_minor": 5
}
